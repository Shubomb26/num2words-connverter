{
 "cells": [
  {
   "cell_type": "code",
   "execution_count": 1,
   "id": "6ff170aa",
   "metadata": {},
   "outputs": [
    {
     "name": "stdout",
     "output_type": "stream",
     "text": [
      "Collecting num2words\n",
      "  Downloading num2words-0.5.12-py3-none-any.whl (125 kB)\n",
      "Collecting docopt>=0.6.2\n",
      "  Downloading docopt-0.6.2.tar.gz (25 kB)\n",
      "Building wheels for collected packages: docopt\n",
      "  Building wheel for docopt (setup.py): started\n",
      "  Building wheel for docopt (setup.py): finished with status 'done'\n",
      "  Created wheel for docopt: filename=docopt-0.6.2-py2.py3-none-any.whl size=13724 sha256=45b39458077567cc6afdbb023058ba2fa023e4976bd01ba0e3a8ce006210b64d\n",
      "  Stored in directory: c:\\users\\singh\\appdata\\local\\pip\\cache\\wheels\\70\\4a\\46\\1309fc853b8d395e60bafaf1b6df7845bdd82c95fd59dd8d2b\n",
      "Successfully built docopt\n",
      "Installing collected packages: docopt, num2words\n",
      "Successfully installed docopt-0.6.2 num2words-0.5.12\n",
      "Note: you may need to restart the kernel to use updated packages.\n"
     ]
    }
   ],
   "source": [
    "#installing num2words module\n",
    "pip install num2words"
   ]
  },
  {
   "cell_type": "code",
   "execution_count": 2,
   "id": "c3330751",
   "metadata": {},
   "outputs": [],
   "source": [
    "#importig the insatlled module\n",
    "from num2words import num2words"
   ]
  },
  {
   "cell_type": "code",
   "execution_count": 4,
   "id": "3cbbf16e",
   "metadata": {},
   "outputs": [],
   "source": [
    "# here i have created a function for resusing a code again \n",
    "def num2word(num):\n",
    "    ans = num2words(num)\n",
    "    return ans\n"
   ]
  },
  {
   "cell_type": "code",
   "execution_count": 6,
   "id": "92d24807",
   "metadata": {},
   "outputs": [
    {
     "name": "stdout",
     "output_type": "stream",
     "text": [
      "Enter a number :34444\n",
      "thirty-four thousand, four hundred and forty-four\n"
     ]
    }
   ],
   "source": [
    "x = int(input('Enter a number :'))\n",
    "a = num2words(x)\n",
    "print(a)"
   ]
  },
  {
   "cell_type": "code",
   "execution_count": null,
   "id": "070b0697",
   "metadata": {},
   "outputs": [],
   "source": []
  }
 ],
 "metadata": {
  "kernelspec": {
   "display_name": "Python 3 (ipykernel)",
   "language": "python",
   "name": "python3"
  },
  "language_info": {
   "codemirror_mode": {
    "name": "ipython",
    "version": 3
   },
   "file_extension": ".py",
   "mimetype": "text/x-python",
   "name": "python",
   "nbconvert_exporter": "python",
   "pygments_lexer": "ipython3",
   "version": "3.9.7"
  }
 },
 "nbformat": 4,
 "nbformat_minor": 5
}
